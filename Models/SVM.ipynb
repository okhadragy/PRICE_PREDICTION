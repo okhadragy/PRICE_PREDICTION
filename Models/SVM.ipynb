{
 "cells": [
  {
   "cell_type": "code",
   "execution_count": 69,
   "metadata": {},
   "outputs": [],
   "source": [
    "import pandas as pd\n",
    "from scipy.stats import zscore, uniform\n",
    "from sklearn.preprocessing import StandardScaler\n",
    "import numpy as np\n",
    "from sklearn.model_selection import GridSearchCV, train_test_split\n",
    "from sklearn.metrics import mean_absolute_error\n",
    "from sklearn.svm import SVR"
   ]
  },
  {
   "cell_type": "code",
   "execution_count": 70,
   "metadata": {},
   "outputs": [],
   "source": [
    "train = pd.read_csv('train.csv')\n",
    "test = pd.read_csv('test.csv')\n",
    "\n",
    "train = train.drop(['X1','X2','X3','X5','X8','X10'], axis=1)\n",
    "test = test.drop(['X1','X2','X3','X5','X8','X10'], axis=1)"
   ]
  },
  {
   "cell_type": "code",
   "execution_count": 71,
   "metadata": {},
   "outputs": [
    {
     "name": "stdout",
     "output_type": "stream",
     "text": [
      "         X4        X6      X7      X9                X11     Y\n",
      "0  0.016047  249.8092  OUT049  Medium  Supermarket Type1  8.23\n",
      "1  0.019278   48.2692  OUT018  Medium  Supermarket Type2  6.09\n",
      "2  0.016760  141.6180  OUT049  Medium  Supermarket Type1  7.65\n",
      "3  0.000000  182.0950  OUT010     NaN      Grocery Store  6.60\n",
      "4  0.000000   53.8614  OUT013    High  Supermarket Type1  6.90\n",
      "         X4        X6      X7      X9                X11\n",
      "0  0.021273  229.1326  OUT027  Medium  Supermarket Type3\n",
      "1  0.027588   86.1856  OUT013    High  Supermarket Type1\n",
      "2  0.111782  182.3292  OUT010     NaN      Grocery Store\n",
      "3  0.029606   65.4142  OUT049  Medium  Supermarket Type1\n",
      "4  0.129141  109.4886  OUT017     NaN  Supermarket Type1\n"
     ]
    }
   ],
   "source": [
    "print(train.head())\n",
    "print(test.head())"
   ]
  },
  {
   "cell_type": "code",
   "execution_count": 72,
   "metadata": {},
   "outputs": [
    {
     "name": "stderr",
     "output_type": "stream",
     "text": [
      "C:\\Users\\belal\\AppData\\Local\\Temp\\ipykernel_10324\\1144176756.py:14: FutureWarning: A value is trying to be set on a copy of a DataFrame or Series through chained assignment using an inplace method.\n",
      "The behavior will change in pandas 3.0. This inplace method will never work because the intermediate object on which we are setting values always behaves as a copy.\n",
      "\n",
      "For example, when doing 'df[col].method(value, inplace=True)', try using 'df.method({col: value}, inplace=True)' or df[col] = df[col].method(value) instead, to perform the operation inplace on the original object.\n",
      "\n",
      "\n",
      "  train_cleaned[column].fillna(median, inplace=True)\n",
      "C:\\Users\\belal\\AppData\\Local\\Temp\\ipykernel_10324\\1144176756.py:9: FutureWarning: A value is trying to be set on a copy of a DataFrame or Series through chained assignment using an inplace method.\n",
      "The behavior will change in pandas 3.0. This inplace method will never work because the intermediate object on which we are setting values always behaves as a copy.\n",
      "\n",
      "For example, when doing 'df[col].method(value, inplace=True)', try using 'df.method({col: value}, inplace=True)' or df[col] = df[col].method(value) instead, to perform the operation inplace on the original object.\n",
      "\n",
      "\n",
      "  train_cleaned[column].fillna(mode, inplace=True)\n",
      "C:\\Users\\belal\\AppData\\Local\\Temp\\ipykernel_10324\\1144176756.py:27: FutureWarning: A value is trying to be set on a copy of a DataFrame or Series through chained assignment using an inplace method.\n",
      "The behavior will change in pandas 3.0. This inplace method will never work because the intermediate object on which we are setting values always behaves as a copy.\n",
      "\n",
      "For example, when doing 'df[col].method(value, inplace=True)', try using 'df.method({col: value}, inplace=True)' or df[col] = df[col].method(value) instead, to perform the operation inplace on the original object.\n",
      "\n",
      "\n",
      "  test_cleaned[column].fillna(median, inplace=True)\n",
      "C:\\Users\\belal\\AppData\\Local\\Temp\\ipykernel_10324\\1144176756.py:22: FutureWarning: A value is trying to be set on a copy of a DataFrame or Series through chained assignment using an inplace method.\n",
      "The behavior will change in pandas 3.0. This inplace method will never work because the intermediate object on which we are setting values always behaves as a copy.\n",
      "\n",
      "For example, when doing 'df[col].method(value, inplace=True)', try using 'df.method({col: value}, inplace=True)' or df[col] = df[col].method(value) instead, to perform the operation inplace on the original object.\n",
      "\n",
      "\n",
      "  test_cleaned[column].fillna(mode, inplace=True)\n"
     ]
    }
   ],
   "source": [
    "train_cleaned = train.copy()\n",
    "test_cleaned = test.copy()\n",
    "\n",
    "# Replace missing values in the train dataset\n",
    "for column in train_cleaned.columns:\n",
    "    if train_cleaned[column].dtype == 'object': #string\n",
    "        # Replace missing values with mode for categorical columns\n",
    "        mode = train_cleaned[column].mode()[0]\n",
    "        train_cleaned[column].fillna(mode, inplace=True)\n",
    "\n",
    "    elif train_cleaned[column].dtype in ['int64', 'float64']:\n",
    "        # Replace missing values with median for numerical columns\n",
    "        median = train_cleaned[column].median()\n",
    "        train_cleaned[column].fillna(median, inplace=True)\n",
    "\n",
    "\n",
    "# Replace missing values in the test dataset\n",
    "for column in test_cleaned.columns:\n",
    "    if test_cleaned[column].dtype == 'object':\n",
    "        # Replace missing values with mode for categorical columns\n",
    "        mode = test_cleaned[column].mode()[0]\n",
    "        test_cleaned[column].fillna(mode, inplace=True)\n",
    "\n",
    "    elif test_cleaned[column].dtype in ['int64', 'float64']:\n",
    "        # Replace missing values with median for numerical columns\n",
    "        median = test_cleaned[column].median()\n",
    "        test_cleaned[column].fillna(median, inplace=True)\n"
   ]
  },
  {
   "cell_type": "code",
   "execution_count": 73,
   "metadata": {},
   "outputs": [
    {
     "name": "stdout",
     "output_type": "stream",
     "text": [
      "Replaced outliers in numerical columns of training data with their median values using Z-score.\n",
      "Removed outliers from 'X4' using the IQR method.\n",
      "Replaced outliers in numerical columns of test data with their median values using Z-score.\n",
      "Removed outliers from 'X4' in test data using the IQR method.\n"
     ]
    }
   ],
   "source": [
    "# Removing Numerical Outliers from Training Dataset\n",
    "numeric_cols = train_cleaned.select_dtypes(include=['float64', 'int64']).columns\n",
    "\n",
    "# Check if 'X4' is in the numeric columns and exclude it\n",
    "if 'X4' in numeric_cols:\n",
    "    numeric_cols = numeric_cols.drop('X4')  # X4 has high skewness; Z-score method is not suitable for it\n",
    "\n",
    "# Detect and replace outliers for the remaining numeric columns using Z-score\n",
    "z_scores = train_cleaned[numeric_cols].apply(zscore)\n",
    "threshold = 3\n",
    "outliers = (z_scores.abs() > threshold).any(axis=1)\n",
    "\n",
    "for column in numeric_cols:\n",
    "    median = train_cleaned[column].median()\n",
    "    train_cleaned.loc[outliers, column] = median\n",
    "\n",
    "print(f\"Replaced outliers in numerical columns of training data with their median values using Z-score.\")\n",
    "\n",
    "# Handle outliers in 'X4' using the IQR method\n",
    "Q1 = train_cleaned['X4'].quantile(0.25)\n",
    "Q3 = train_cleaned['X4'].quantile(0.75)\n",
    "IQR = Q3 - Q1\n",
    "lower_bound = Q1 - 1.5 * IQR\n",
    "upper_bound = Q3 + 1.5 * IQR\n",
    "X4_outliers = (train_cleaned['X4'] < lower_bound) | (train_cleaned['X4'] > upper_bound)\n",
    "train_cleaned.loc[X4_outliers, 'X4'] = train_cleaned['X4'].median()\n",
    "print(f\"Removed outliers from 'X4' using the IQR method.\")\n",
    "\n",
    "# Store the cleaned training data after outlier removal\n",
    "train_cleaned_no_outliers = train_cleaned.copy()\n",
    "\n",
    "# Repeat the same logic for the test dataset\n",
    "numeric_cols_test = test_cleaned.select_dtypes(include=['float64', 'int64']).columns\n",
    "\n",
    "if 'X4' in numeric_cols_test:\n",
    "    numeric_cols_test = numeric_cols_test.drop('X4')  # Exclude X4 for the same reason as training\n",
    "\n",
    "# Detect and replace outliers in the test dataset using Z-score\n",
    "z_scores_test = test_cleaned[numeric_cols_test].apply(zscore)\n",
    "outliers_test = (z_scores_test.abs() > threshold).any(axis=1)\n",
    "\n",
    "for column in numeric_cols_test:\n",
    "    median = test_cleaned[column].median()\n",
    "    test_cleaned.loc[outliers_test, column] = median\n",
    "\n",
    "print(f\"Replaced outliers in numerical columns of test data with their median values using Z-score.\")\n",
    "\n",
    "# Handle outliers in 'X4' using the IQR method for the test dataset\n",
    "Q1_test = test_cleaned['X4'].quantile(0.25)\n",
    "Q3_test = test_cleaned['X4'].quantile(0.75)\n",
    "IQR_test = Q3_test - Q1_test\n",
    "lower_bound_test = Q1_test - 1.5 * IQR_test\n",
    "upper_bound_test = Q3_test + 1.5 * IQR_test\n",
    "\n",
    "X4_outliers_test = (test_cleaned['X4'] < lower_bound_test) | (test_cleaned['X4'] > upper_bound_test)\n",
    "test_cleaned.loc[X4_outliers_test, 'X4'] = test_cleaned['X4'].median()\n",
    "\n",
    "print(f\"Removed outliers from 'X4' in test data using the IQR method.\")\n",
    "\n",
    "# Store the cleaned test data after outlier removal\n",
    "test_cleaned_no_outliers = test_cleaned.copy()\n"
   ]
  },
  {
   "cell_type": "code",
   "execution_count": 74,
   "metadata": {},
   "outputs": [],
   "source": [
    "train_cleaned_no_outliers = pd.get_dummies(train_cleaned_no_outliers)\n",
    "test_cleaned_no_outliers = pd.get_dummies(test_cleaned_no_outliers)"
   ]
  },
  {
   "cell_type": "code",
   "execution_count": 75,
   "metadata": {},
   "outputs": [],
   "source": [
    "Train_Numerical_columns = train_cleaned_no_outliers.select_dtypes(include=['float64', 'int64']).columns.drop('Y')\n",
    "Test_Numerical_columns = test_cleaned_no_outliers.select_dtypes(include=['float64', 'int64']).columns\n",
    "\n",
    "# Standardize the data\n",
    "Scaler = StandardScaler()\n",
    "train_cleaned_no_outliers[Train_Numerical_columns] = Scaler.fit_transform(train_cleaned_no_outliers[Train_Numerical_columns])\n",
    "test_cleaned_no_outliers[Test_Numerical_columns] = Scaler.fit_transform(test_cleaned_no_outliers[Test_Numerical_columns])"
   ]
  },
  {
   "cell_type": "code",
   "execution_count": 76,
   "metadata": {},
   "outputs": [
    {
     "name": "stdout",
     "output_type": "stream",
     "text": [
      "Fitting 5 folds for each of 125 candidates, totalling 625 fits\n",
      "Best Parameters: {'C': 100, 'epsilon': 0.1, 'gamma': 0.01, 'kernel': 'rbf'}\n",
      "Best Score: 0.4067048716162633\n"
     ]
    }
   ],
   "source": [
    "\n",
    "X = train_cleaned_no_outliers.drop('Y', axis=1)\n",
    "y = train_cleaned_no_outliers['Y']\n",
    "\n",
    "X_train, X_test, y_train, y_test = train_test_split(X, y, test_size=0.3, random_state=42)\n",
    "\n",
    "svr = SVR(kernel='rbf')\n",
    "param_grid = {\n",
    "    'C': [0.1, 1, 10, 100, 1000],\n",
    "    'gamma': [1, 0.1, 0.01, 0.001, 0.0001],\n",
    "    'kernel': [\"rbf\"],\n",
    "    'epsilon': [0.1, 0.2, 0.3, 0.4, 0.5]\n",
    "}\n",
    "\n",
    "grid_search = GridSearchCV(estimator=svr,param_grid=param_grid,cv=5,scoring='neg_mean_absolute_error',verbose=3,n_jobs=-1)\n",
    "\n",
    "grid_search.fit(X_train, y_train)\n",
    "\n",
    "print(\"Best Parameters:\", grid_search.best_params_)\n",
    "print(\"Best Score:\", -grid_search.best_score_)\n"
   ]
  },
  {
   "cell_type": "code",
   "execution_count": 77,
   "metadata": {},
   "outputs": [
    {
     "name": "stdout",
     "output_type": "stream",
     "text": [
      "0.40923403596113983\n"
     ]
    }
   ],
   "source": [
    "model = SVR(C=100,epsilon=0.1, kernel= 'rbf', gamma=0.01)\n",
    "model.fit(X_train, y_train)\n",
    "\n",
    "error_prediciton = model.predict(X_test)\n",
    "mae = mean_absolute_error(y_test, error_prediciton)\n",
    "print(mae)\n",
    "\n",
    "predictions = model.predict(test_cleaned_no_outliers)\n",
    "\n",
    "output_test = pd.DataFrame({\n",
    "    'row_id': range(len(predictions)),\n",
    "    'Y': predictions\n",
    "})\n",
    "\n",
    "output_test.to_csv('submission.csv', index=False)\n"
   ]
  }
 ],
 "metadata": {
  "kernelspec": {
   "display_name": "Nain",
   "language": "python",
   "name": "python3"
  },
  "language_info": {
   "codemirror_mode": {
    "name": "ipython",
    "version": 3
   },
   "file_extension": ".py",
   "mimetype": "text/x-python",
   "name": "python",
   "nbconvert_exporter": "python",
   "pygments_lexer": "ipython3",
   "version": "3.9.20"
  }
 },
 "nbformat": 4,
 "nbformat_minor": 2
}
