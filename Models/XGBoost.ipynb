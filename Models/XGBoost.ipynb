{
 "cells": [
  {
   "cell_type": "code",
   "execution_count": 181,
   "metadata": {},
   "outputs": [],
   "source": [
    "import pandas as pd\n",
    "from sklearn.model_selection import train_test_split\n",
    "from xgboost import XGBRegressor\n",
    "from sklearn.preprocessing import OneHotEncoder, StandardScaler, PolynomialFeatures\n",
    "from sklearn.metrics import mean_absolute_error\n",
    "from sklearn.compose import ColumnTransformer\n",
    "from sklearn.pipeline import Pipeline\n",
    "from sklearn.impute import SimpleImputer\n",
    "from sklearn.base import BaseEstimator, TransformerMixin\n",
    "import numpy as np\n",
    "from sklearn.model_selection import cross_val_score\n",
    "import optuna"
   ]
  },
  {
   "cell_type": "code",
   "execution_count": 182,
   "metadata": {},
   "outputs": [],
   "source": [
    "train_data = pd.read_csv('train.csv')\n",
    "test_data = pd.read_csv('test.csv')"
   ]
  },
  {
   "cell_type": "code",
   "execution_count": 183,
   "metadata": {},
   "outputs": [],
   "source": [
    "class OutlierFixer(BaseEstimator, TransformerMixin):\n",
    "    def __init__(self, method='iqr', factor=1.5):\n",
    "        self.method = method\n",
    "        self.factor = factor\n",
    "\n",
    "    def fit(self, X, y=None):\n",
    "        self.feature_names_in_ = X.columns if isinstance(X, pd.DataFrame) else [f\"feature_{i}\" for i in range(X.shape[1])]\n",
    "        return self\n",
    "\n",
    "    def transform(self, X, y=None):\n",
    "        X = pd.DataFrame(X, columns=self.feature_names_in_)\n",
    "        if self.method == 'iqr':\n",
    "            for col in X.columns:\n",
    "                Q1 = X[col].quantile(0.25)\n",
    "                Q3 = X[col].quantile(0.75)\n",
    "                IQR = Q3 - Q1\n",
    "                lower_bound = Q1 - self.factor * IQR\n",
    "                upper_bound = Q3 + self.factor * IQR\n",
    "                median = X[col].median()\n",
    "                X[col] = X[col].mask((X[col] < lower_bound) | (X[col] > upper_bound), median)\n",
    "        return X"
   ]
  },
  {
   "cell_type": "code",
   "execution_count": 184,
   "metadata": {},
   "outputs": [],
   "source": [
    "X = train_data.drop(columns=['Y', 'X1', 'X2', 'X3', 'X5', 'X10'])\n",
    "y = train_data['Y']\n",
    "\n",
    "categorical_columns = X.select_dtypes(include=['object']).columns\n",
    "numerical_columns = X.select_dtypes(exclude=['object']).columns"
   ]
  },
  {
   "cell_type": "code",
   "execution_count": 185,
   "metadata": {},
   "outputs": [],
   "source": [
    "numerical_pipeline = Pipeline(steps=[\n",
    "    ('imputer', SimpleImputer(strategy='median')),\n",
    "    ('outlier_removal', OutlierFixer(method='iqr', factor=1.5)),\n",
    "    ('scaler', StandardScaler()),\n",
    "    ('poly', PolynomialFeatures(degree=3, include_bias=False))\n",
    "])\n",
    "\n",
    "categorical_pipeline = Pipeline(steps=[\n",
    "    ('imputer', SimpleImputer(strategy='most_frequent')),\n",
    "    ('onehot', OneHotEncoder(handle_unknown='ignore'))\n",
    "])\n",
    "\n",
    "preprocessor = ColumnTransformer(transformers=[\n",
    "    ('num', numerical_pipeline, numerical_columns),\n",
    "    ('cat', categorical_pipeline, categorical_columns)\n",
    "])"
   ]
  },
  {
   "cell_type": "code",
   "execution_count": 186,
   "metadata": {},
   "outputs": [
    {
     "name": "stdout",
     "output_type": "stream",
     "text": [
      "Fixed parameters: {'n_estimators': 800, 'learning_rate': 0.0135, 'max_depth': 2, 'subsample': 0.7, 'colsample_bytree': 0.6, 'reg_alpha': 4.77e-05, 'reg_lambda': 0.16, 'random_state': 42, 'n_jobs': -1}\n",
      "Mean Absolute Error (MAE) with fixed parameters: 0.4030\n"
     ]
    }
   ],
   "source": [
    "X_train, X_val, y_train, y_val = train_test_split(X, y, test_size=0.2, random_state=42)\n",
    "\n",
    "final_params = {\n",
    "    'n_estimators': 800,\n",
    "    'learning_rate': 0.0135,\n",
    "    'max_depth': 2,\n",
    "    'subsample': 0.7,\n",
    "    'colsample_bytree': 0.6,\n",
    "    'reg_alpha': 4.77e-05,\n",
    "    'reg_lambda': 0.16,\n",
    "    'random_state': 42,\n",
    "    'n_jobs': -1\n",
    "}\n",
    "\n",
    "final_model = Pipeline([\n",
    "    ('preprocessor', preprocessor),\n",
    "    ('regressor', XGBRegressor(**final_params))\n",
    "])\n",
    "\n",
    "final_model.fit(X, y)\n",
    "\n",
    "val_mae = mean_absolute_error(y_val, final_model.predict(X_val))\n",
    "print(f\"Fixed parameters: {final_params}\")\n",
    "print(f\"Mean Absolute Error (MAE) with fixed parameters: {val_mae:.4f}\")\n",
    "\n",
    "submission = pd.DataFrame({\n",
    "    'row_id': test_data.index,\n",
    "    'Y': final_model.predict(test_data.drop(columns=['X1', 'X2', 'X3', 'X5', 'X10']))\n",
    "})\n",
    "submission.to_csv('submission_XGBoost.csv', index=False)\n"
   ]
  }
 ],
 "metadata": {
  "kernelspec": {
   "display_name": "Python 3",
   "language": "python",
   "name": "python3"
  },
  "language_info": {
   "codemirror_mode": {
    "name": "ipython",
    "version": 3
   },
   "file_extension": ".py",
   "mimetype": "text/x-python",
   "name": "python",
   "nbconvert_exporter": "python",
   "pygments_lexer": "ipython3",
   "version": "3.12.6"
  }
 },
 "nbformat": 4,
 "nbformat_minor": 2
}
