{
 "cells": [
  {
   "cell_type": "code",
   "execution_count": 1,
   "metadata": {},
   "outputs": [],
   "source": [
    "import pandas as pd\n",
    "from scipy.stats import zscore, uniform\n",
    "from sklearn.preprocessing import StandardScaler\n",
    "import numpy as np\n",
    "from sklearn.linear_model import LinearRegression\n",
    "from sklearn.model_selection import train_test_split\n",
    "from sklearn.metrics import mean_absolute_error\n"
   ]
  },
  {
   "cell_type": "code",
   "execution_count": 2,
   "metadata": {},
   "outputs": [],
   "source": [
    "train = pd.read_csv('train.csv')\n",
    "test = pd.read_csv('test.csv')\n",
    "\n",
    "\n",
    "train = train.drop(['X1','X2','X3','X5','X8','X10'], axis=1)\n",
    "test = test.drop(['X1','X2','X3','X5','X8','X10'], axis=1)\n"
   ]
  },
  {
   "cell_type": "code",
   "execution_count": 3,
   "metadata": {},
   "outputs": [
    {
     "name": "stderr",
     "output_type": "stream",
     "text": [
      "C:\\Users\\belal\\AppData\\Local\\Temp\\ipykernel_3980\\1367896377.py:14: FutureWarning: A value is trying to be set on a copy of a DataFrame or Series through chained assignment using an inplace method.\n",
      "The behavior will change in pandas 3.0. This inplace method will never work because the intermediate object on which we are setting values always behaves as a copy.\n",
      "\n",
      "For example, when doing 'df[col].method(value, inplace=True)', try using 'df.method({col: value}, inplace=True)' or df[col] = df[col].method(value) instead, to perform the operation inplace on the original object.\n",
      "\n",
      "\n",
      "  train_cleaned[column].fillna(median, inplace=True)\n",
      "C:\\Users\\belal\\AppData\\Local\\Temp\\ipykernel_3980\\1367896377.py:9: FutureWarning: A value is trying to be set on a copy of a DataFrame or Series through chained assignment using an inplace method.\n",
      "The behavior will change in pandas 3.0. This inplace method will never work because the intermediate object on which we are setting values always behaves as a copy.\n",
      "\n",
      "For example, when doing 'df[col].method(value, inplace=True)', try using 'df.method({col: value}, inplace=True)' or df[col] = df[col].method(value) instead, to perform the operation inplace on the original object.\n",
      "\n",
      "\n",
      "  train_cleaned[column].fillna(mode, inplace=True)\n",
      "C:\\Users\\belal\\AppData\\Local\\Temp\\ipykernel_3980\\1367896377.py:27: FutureWarning: A value is trying to be set on a copy of a DataFrame or Series through chained assignment using an inplace method.\n",
      "The behavior will change in pandas 3.0. This inplace method will never work because the intermediate object on which we are setting values always behaves as a copy.\n",
      "\n",
      "For example, when doing 'df[col].method(value, inplace=True)', try using 'df.method({col: value}, inplace=True)' or df[col] = df[col].method(value) instead, to perform the operation inplace on the original object.\n",
      "\n",
      "\n",
      "  test_cleaned[column].fillna(median, inplace=True)\n",
      "C:\\Users\\belal\\AppData\\Local\\Temp\\ipykernel_3980\\1367896377.py:22: FutureWarning: A value is trying to be set on a copy of a DataFrame or Series through chained assignment using an inplace method.\n",
      "The behavior will change in pandas 3.0. This inplace method will never work because the intermediate object on which we are setting values always behaves as a copy.\n",
      "\n",
      "For example, when doing 'df[col].method(value, inplace=True)', try using 'df.method({col: value}, inplace=True)' or df[col] = df[col].method(value) instead, to perform the operation inplace on the original object.\n",
      "\n",
      "\n",
      "  test_cleaned[column].fillna(mode, inplace=True)\n"
     ]
    }
   ],
   "source": [
    "train_cleaned = train.copy()\n",
    "test_cleaned = test.copy()\n",
    "\n",
    "# Replace missing values in the train dataset\n",
    "for column in train_cleaned.columns:\n",
    "    if train_cleaned[column].dtype == 'object':\n",
    "        # Replace missing values with mode for categorical columns\n",
    "        mode = train_cleaned[column].mode()[0]\n",
    "        train_cleaned[column].fillna(mode, inplace=True)\n",
    "\n",
    "    elif train_cleaned[column].dtype in ['int64', 'float64']:\n",
    "        # Replace missing values with median for numerical columns\n",
    "        median = train_cleaned[column].median()\n",
    "        train_cleaned[column].fillna(median, inplace=True)\n",
    "\n",
    "\n",
    "# Replace missing values in the test dataset\n",
    "for column in test_cleaned.columns:\n",
    "    if test_cleaned[column].dtype == 'object':\n",
    "        # Replace missing values with mode for categorical columns\n",
    "        mode = test_cleaned[column].mode()[0]\n",
    "        test_cleaned[column].fillna(mode, inplace=True)\n",
    "\n",
    "    elif test_cleaned[column].dtype in ['int64', 'float64']:\n",
    "        # Replace missing values with median for numerical columns\n",
    "        median = test_cleaned[column].median()\n",
    "        test_cleaned[column].fillna(median, inplace=True)\n"
   ]
  },
  {
   "cell_type": "code",
   "execution_count": 4,
   "metadata": {},
   "outputs": [
    {
     "name": "stdout",
     "output_type": "stream",
     "text": [
      "Replaced outliers in numerical columns of training data with their median values using Z-score.\n",
      "Removed outliers from 'X4' using the IQR method.\n",
      "Replaced outliers in numerical columns of test data with their median values using Z-score.\n",
      "Removed outliers from 'X4' in test data using the IQR method.\n"
     ]
    }
   ],
   "source": [
    "\n",
    "# Removing Numerical Outliers from Training Dataset\n",
    "\n",
    "numeric_cols = train_cleaned.select_dtypes(include=['float64', 'int64']).columns\n",
    "\n",
    "# Check if 'X4' is in the numeric columns and exclude it\n",
    "if 'X4' in numeric_cols:\n",
    "    numeric_cols = numeric_cols.drop('X4')  # X4 has high skewness; Z-score method is not suitable for it\n",
    "\n",
    "# Detect and replace outliers for the remaining numeric columns using Z-score\n",
    "z_scores = train_cleaned[numeric_cols].apply(zscore)\n",
    "threshold = 3\n",
    "outliers = (z_scores.abs() > threshold).any(axis=1)\n",
    "\n",
    "for column in numeric_cols:\n",
    "    median = train_cleaned[column].median()\n",
    "    train_cleaned.loc[outliers, column] = median\n",
    "\n",
    "print(f\"Replaced outliers in numerical columns of training data with their median values using Z-score.\")\n",
    "\n",
    "# Handle outliers in 'X4' using the IQR method\n",
    "Q1 = train_cleaned['X4'].quantile(0.25)\n",
    "Q3 = train_cleaned['X4'].quantile(0.75)\n",
    "IQR = Q3 - Q1\n",
    "lower_bound = Q1 - 1.5 * IQR\n",
    "upper_bound = Q3 + 1.5 * IQR\n",
    "\n",
    "X4_outliers = (train_cleaned['X4'] < lower_bound) | (train_cleaned['X4'] > upper_bound)\n",
    "train_cleaned.loc[X4_outliers, 'X4'] = train_cleaned['X4'].median()\n",
    "\n",
    "print(f\"Removed outliers from 'X4' using the IQR method.\")\n",
    "\n",
    "# Store the cleaned training data after outlier removal\n",
    "train_cleaned_no_outliers = train_cleaned.copy()\n",
    "\n",
    "# Repeat the same logic for the test dataset\n",
    "numeric_cols_test = test_cleaned.select_dtypes(include=['float64', 'int64']).columns\n",
    "\n",
    "if 'X4' in numeric_cols_test:\n",
    "    numeric_cols_test = numeric_cols_test.drop('X4')  # Exclude X4 for the same reason as training\n",
    "\n",
    "# Detect and replace outliers in the test dataset using Z-score\n",
    "z_scores_test = test_cleaned[numeric_cols_test].apply(zscore)\n",
    "outliers_test = (z_scores_test.abs() > threshold).any(axis=1)\n",
    "\n",
    "for column in numeric_cols_test:\n",
    "    median = test_cleaned[column].median()\n",
    "    test_cleaned.loc[outliers_test, column] = median\n",
    "\n",
    "print(f\"Replaced outliers in numerical columns of test data with their median values using Z-score.\")\n",
    "\n",
    "# Handle outliers in 'X4' using the IQR method for the test dataset\n",
    "Q1_test = test_cleaned['X4'].quantile(0.25)\n",
    "Q3_test = test_cleaned['X4'].quantile(0.75)\n",
    "IQR_test = Q3_test - Q1_test\n",
    "lower_bound_test = Q1_test - 1.5 * IQR_test\n",
    "upper_bound_test = Q3_test + 1.5 * IQR_test\n",
    "\n",
    "X4_outliers_test = (test_cleaned['X4'] < lower_bound_test) | (test_cleaned['X4'] > upper_bound_test)\n",
    "test_cleaned.loc[X4_outliers_test, 'X4'] = test_cleaned['X4'].median()\n",
    "\n",
    "print(f\"Removed outliers from 'X4' in test data using the IQR method.\")\n",
    "\n",
    "# Store the cleaned test data after outlier removal\n",
    "test_cleaned_no_outliers = test_cleaned.copy()\n",
    "\n"
   ]
  },
  {
   "cell_type": "code",
   "execution_count": 5,
   "metadata": {},
   "outputs": [],
   "source": [
    "#Apply One-Hot Encoding to Categorical Columns\n",
    "\n",
    "train_cleaned_no_outliers = pd.get_dummies(train_cleaned_no_outliers, drop_first=True)\n",
    "\n",
    "test_cleaned_no_outliers = pd.get_dummies(test_cleaned_no_outliers, drop_first=True)   "
   ]
  },
  {
   "cell_type": "code",
   "execution_count": 6,
   "metadata": {},
   "outputs": [],
   "source": [
    "Train_Numerical_columns = train_cleaned_no_outliers.select_dtypes(include=['float64', 'int64']).columns.drop('Y')\n",
    "Test_Numerical_columns = test_cleaned_no_outliers.select_dtypes(include=['float64', 'int64']).columns\n",
    "\n",
    "# Standardize the data\n",
    "Scaler = StandardScaler()\n",
    "train_cleaned_no_outliers[Train_Numerical_columns] = Scaler.fit_transform(train_cleaned_no_outliers[Train_Numerical_columns])\n",
    "test_cleaned_no_outliers[Test_Numerical_columns] = Scaler.transform(test_cleaned_no_outliers[Test_Numerical_columns])"
   ]
  },
  {
   "cell_type": "code",
   "execution_count": 13,
   "metadata": {},
   "outputs": [
    {
     "name": "stdout",
     "output_type": "stream",
     "text": [
      "0.4357377739791602\n"
     ]
    }
   ],
   "source": [
    "X = train_cleaned_no_outliers.drop(columns=[\"Y\"])\n",
    "Y = train_cleaned_no_outliers[\"Y\"]\n",
    "\n",
    "X_Train, X_Test, Y_Train, Y_Test = train_test_split(X, Y, test_size=0.2, random_state= 42)\n",
    "\n",
    "model = LinearRegression()\n",
    "model.fit(X_Train,Y_Train)\n",
    "\n",
    "sara = model.predict(X_Test)\n",
    "error_prediction = mean_absolute_error(Y_Test,sara)\n",
    "print(error_prediction)\n",
    "\n",
    "predictions = model.predict(test_cleaned_no_outliers)\n",
    "submission = pd.DataFrame({'row_id': test_cleaned_no_outliers.index, 'Y': predictions})\n",
    "submission.to_csv('submission_Linear.csv', index=False)"
   ]
  },
  {
   "cell_type": "code",
   "execution_count": null,
   "metadata": {},
   "outputs": [],
   "source": [
    "\n",
    "\n"
   ]
  }
 ],
 "metadata": {
  "kernelspec": {
   "display_name": "Nain",
   "language": "python",
   "name": "python3"
  },
  "language_info": {
   "codemirror_mode": {
    "name": "ipython",
    "version": 3
   },
   "file_extension": ".py",
   "mimetype": "text/x-python",
   "name": "python",
   "nbconvert_exporter": "python",
   "pygments_lexer": "ipython3",
   "version": "3.9.20"
  }
 },
 "nbformat": 4,
 "nbformat_minor": 2
}
